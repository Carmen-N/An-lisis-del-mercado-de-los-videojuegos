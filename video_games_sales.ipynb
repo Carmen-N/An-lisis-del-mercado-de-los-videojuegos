{
  "nbformat": 4,
  "nbformat_minor": 0,
  "metadata": {
    "colab": {
      "provenance": [],
      "toc_visible": true,
      "authorship_tag": "ABX9TyNzfI5MuL6UD+xUlQqk9ljD",
      "include_colab_link": true
    },
    "kernelspec": {
      "name": "python3",
      "display_name": "Python 3"
    },
    "language_info": {
      "name": "python"
    }
  },
  "cells": [
    {
      "cell_type": "markdown",
      "metadata": {
        "id": "view-in-github",
        "colab_type": "text"
      },
      "source": [
        "<a href=\"https://colab.research.google.com/github/Carmen-N/An-lisis-del-mercado-de-los-videojuegos/blob/master/video_games_sales.ipynb\" target=\"_parent\"><img src=\"https://colab.research.google.com/assets/colab-badge.svg\" alt=\"Open In Colab\"/></a>"
      ]
    },
    {
      "cell_type": "code",
      "execution_count": null,
      "metadata": {
        "id": "RIAG5UHtNGYA"
      },
      "outputs": [],
      "source": []
    },
    {
      "cell_type": "markdown",
      "source": [
        "**Análisis del mercado de los videojuegos**\n",
        "\n",
        "\n",
        "Objetivo:\n",
        "\n",
        "Para una tienda online de juegos de ordenador, es necesario realizar un análisis de mercado, identificar los perfiles que determinan el éxito de los juegos, definir un retrato de usuario para cada una de las regiones y poner a prueba las hipótesis de trabajo. Esto permitirá apostar por un producto potencialmente popular y planificar campañas publicitarias que ayuden a desarrollar el negocio de la tienda.\n",
        "\n",
        "Los datos se recogen de fuentes abiertas y se guardan en el archivo games.csv. Los datos incluyen información de 1983 a 2016. Es posible que los datos de 2016 no estén completos.\n",
        "\n",
        "Descripción de los datos games.csv:"
      ],
      "metadata": {
        "id": "5EHaBXumNNqo"
      }
    },
    {
      "cell_type": "markdown",
      "source": [
        "Nombre - nombre del juego\n",
        "\n",
        "* Plataforma \n",
        "\n",
        "\n",
        "\n",
        "* Year_of_Release - año de publicación\n",
        "\n",
        "* Género - género del juego\n",
        "\n",
        "\n",
        "* NA_sales - Ventas en Norteamérica (millones de dólares)\n",
        "* EU_sales - Ventas en Europa (millones de dólares\n",
        "\n",
        "\n",
        "* JP_sales - Ventas en Japón (millones de dólares)\n",
        "\n",
        "* Otras_ventas - ventas en otros países (millones de dólares)\n",
        "\n",
        "* Critic_Score - puntuación de los críticos (de 0 a 100)\n",
        "* Puntuación_usuario - valoración del usuario (de 0 a 10)  \n",
        "\n",
        "\n",
        "* Clasificación - Clasificación proporcionada por la ESRB (Entertainment Software Rating Board). Esta asociación determina la clasificación de los juegos de ordenador y los asigna a la categoría de edad adecuada.  \n",
        "\n",
        "\n",
        "\n",
        "\n",
        "\n"
      ],
      "metadata": {
        "id": "jF-hvUb0NXB3"
      }
    },
    {
      "cell_type": "markdown",
      "source": [
        "**Las etapas de la ejecución de un proyecto**"
      ],
      "metadata": {
        "id": "KLlj8-U6OvMM"
      }
    },
    {
      "cell_type": "markdown",
      "source": [
        "1. Obtener los  datos\n",
        "2. Preprocesamiento de datos\n",
        "3. Análisis exploratorio de datos\n",
        "4. Perfil de usuario de cada región\n",
        "5. Encuesta sobre indicadores estadísticos\n",
        "6. Comprobación de hipótesis\n",
        "7. Resultados del estudio"
      ],
      "metadata": {
        "id": "xNfXi_yHOzTp"
      }
    },
    {
      "cell_type": "markdown",
      "source": [
        "Paso 1: Obtener los datos\n",
        "\n",
        "Examine los datos aportados para el proyecto."
      ],
      "metadata": {
        "id": "qEygGINgO2bj"
      }
    },
    {
      "cell_type": "code",
      "source": [
        "#importar librerias \n",
        "import pandas as pd\n",
        "import numpy as np\n",
        "from scipy import stats as st\n",
        "import seaborn as sns\n",
        "import matplotlib.pyplot as plt\n",
        "%matplotlib inline\n",
        "import pylab as plt\n",
        "sns.set(style=\"white\")\n",
        "from google.colab import files\n",
        "import io "
      ],
      "metadata": {
        "id": "FZNGCxv_Pgf3"
      },
      "execution_count": 5,
      "outputs": []
    },
    {
      "cell_type": "markdown",
      "source": [
        "Leer el archivo games.csv y almacenarlo en la variable df."
      ],
      "metadata": {
        "id": "JeQ6VojmPyBC"
      }
    },
    {
      "cell_type": "code",
      "source": [
        "data = files.upload()"
      ],
      "metadata": {
        "colab": {
          "base_uri": "https://localhost:8080/",
          "height": 74
        },
        "id": "Ux1X1TMjQ-Vs",
        "outputId": "7a4dbd59-429f-4bc0-d229-5be0c1c0e273"
      },
      "execution_count": 6,
      "outputs": [
        {
          "output_type": "display_data",
          "data": {
            "text/plain": [
              "<IPython.core.display.HTML object>"
            ],
            "text/html": [
              "\n",
              "     <input type=\"file\" id=\"files-9ac4a4cc-b3ef-4546-b9ba-729843ab8659\" name=\"files[]\" multiple disabled\n",
              "        style=\"border:none\" />\n",
              "     <output id=\"result-9ac4a4cc-b3ef-4546-b9ba-729843ab8659\">\n",
              "      Upload widget is only available when the cell has been executed in the\n",
              "      current browser session. Please rerun this cell to enable.\n",
              "      </output>\n",
              "      <script>// Copyright 2017 Google LLC\n",
              "//\n",
              "// Licensed under the Apache License, Version 2.0 (the \"License\");\n",
              "// you may not use this file except in compliance with the License.\n",
              "// You may obtain a copy of the License at\n",
              "//\n",
              "//      http://www.apache.org/licenses/LICENSE-2.0\n",
              "//\n",
              "// Unless required by applicable law or agreed to in writing, software\n",
              "// distributed under the License is distributed on an \"AS IS\" BASIS,\n",
              "// WITHOUT WARRANTIES OR CONDITIONS OF ANY KIND, either express or implied.\n",
              "// See the License for the specific language governing permissions and\n",
              "// limitations under the License.\n",
              "\n",
              "/**\n",
              " * @fileoverview Helpers for google.colab Python module.\n",
              " */\n",
              "(function(scope) {\n",
              "function span(text, styleAttributes = {}) {\n",
              "  const element = document.createElement('span');\n",
              "  element.textContent = text;\n",
              "  for (const key of Object.keys(styleAttributes)) {\n",
              "    element.style[key] = styleAttributes[key];\n",
              "  }\n",
              "  return element;\n",
              "}\n",
              "\n",
              "// Max number of bytes which will be uploaded at a time.\n",
              "const MAX_PAYLOAD_SIZE = 100 * 1024;\n",
              "\n",
              "function _uploadFiles(inputId, outputId) {\n",
              "  const steps = uploadFilesStep(inputId, outputId);\n",
              "  const outputElement = document.getElementById(outputId);\n",
              "  // Cache steps on the outputElement to make it available for the next call\n",
              "  // to uploadFilesContinue from Python.\n",
              "  outputElement.steps = steps;\n",
              "\n",
              "  return _uploadFilesContinue(outputId);\n",
              "}\n",
              "\n",
              "// This is roughly an async generator (not supported in the browser yet),\n",
              "// where there are multiple asynchronous steps and the Python side is going\n",
              "// to poll for completion of each step.\n",
              "// This uses a Promise to block the python side on completion of each step,\n",
              "// then passes the result of the previous step as the input to the next step.\n",
              "function _uploadFilesContinue(outputId) {\n",
              "  const outputElement = document.getElementById(outputId);\n",
              "  const steps = outputElement.steps;\n",
              "\n",
              "  const next = steps.next(outputElement.lastPromiseValue);\n",
              "  return Promise.resolve(next.value.promise).then((value) => {\n",
              "    // Cache the last promise value to make it available to the next\n",
              "    // step of the generator.\n",
              "    outputElement.lastPromiseValue = value;\n",
              "    return next.value.response;\n",
              "  });\n",
              "}\n",
              "\n",
              "/**\n",
              " * Generator function which is called between each async step of the upload\n",
              " * process.\n",
              " * @param {string} inputId Element ID of the input file picker element.\n",
              " * @param {string} outputId Element ID of the output display.\n",
              " * @return {!Iterable<!Object>} Iterable of next steps.\n",
              " */\n",
              "function* uploadFilesStep(inputId, outputId) {\n",
              "  const inputElement = document.getElementById(inputId);\n",
              "  inputElement.disabled = false;\n",
              "\n",
              "  const outputElement = document.getElementById(outputId);\n",
              "  outputElement.innerHTML = '';\n",
              "\n",
              "  const pickedPromise = new Promise((resolve) => {\n",
              "    inputElement.addEventListener('change', (e) => {\n",
              "      resolve(e.target.files);\n",
              "    });\n",
              "  });\n",
              "\n",
              "  const cancel = document.createElement('button');\n",
              "  inputElement.parentElement.appendChild(cancel);\n",
              "  cancel.textContent = 'Cancel upload';\n",
              "  const cancelPromise = new Promise((resolve) => {\n",
              "    cancel.onclick = () => {\n",
              "      resolve(null);\n",
              "    };\n",
              "  });\n",
              "\n",
              "  // Wait for the user to pick the files.\n",
              "  const files = yield {\n",
              "    promise: Promise.race([pickedPromise, cancelPromise]),\n",
              "    response: {\n",
              "      action: 'starting',\n",
              "    }\n",
              "  };\n",
              "\n",
              "  cancel.remove();\n",
              "\n",
              "  // Disable the input element since further picks are not allowed.\n",
              "  inputElement.disabled = true;\n",
              "\n",
              "  if (!files) {\n",
              "    return {\n",
              "      response: {\n",
              "        action: 'complete',\n",
              "      }\n",
              "    };\n",
              "  }\n",
              "\n",
              "  for (const file of files) {\n",
              "    const li = document.createElement('li');\n",
              "    li.append(span(file.name, {fontWeight: 'bold'}));\n",
              "    li.append(span(\n",
              "        `(${file.type || 'n/a'}) - ${file.size} bytes, ` +\n",
              "        `last modified: ${\n",
              "            file.lastModifiedDate ? file.lastModifiedDate.toLocaleDateString() :\n",
              "                                    'n/a'} - `));\n",
              "    const percent = span('0% done');\n",
              "    li.appendChild(percent);\n",
              "\n",
              "    outputElement.appendChild(li);\n",
              "\n",
              "    const fileDataPromise = new Promise((resolve) => {\n",
              "      const reader = new FileReader();\n",
              "      reader.onload = (e) => {\n",
              "        resolve(e.target.result);\n",
              "      };\n",
              "      reader.readAsArrayBuffer(file);\n",
              "    });\n",
              "    // Wait for the data to be ready.\n",
              "    let fileData = yield {\n",
              "      promise: fileDataPromise,\n",
              "      response: {\n",
              "        action: 'continue',\n",
              "      }\n",
              "    };\n",
              "\n",
              "    // Use a chunked sending to avoid message size limits. See b/62115660.\n",
              "    let position = 0;\n",
              "    do {\n",
              "      const length = Math.min(fileData.byteLength - position, MAX_PAYLOAD_SIZE);\n",
              "      const chunk = new Uint8Array(fileData, position, length);\n",
              "      position += length;\n",
              "\n",
              "      const base64 = btoa(String.fromCharCode.apply(null, chunk));\n",
              "      yield {\n",
              "        response: {\n",
              "          action: 'append',\n",
              "          file: file.name,\n",
              "          data: base64,\n",
              "        },\n",
              "      };\n",
              "\n",
              "      let percentDone = fileData.byteLength === 0 ?\n",
              "          100 :\n",
              "          Math.round((position / fileData.byteLength) * 100);\n",
              "      percent.textContent = `${percentDone}% done`;\n",
              "\n",
              "    } while (position < fileData.byteLength);\n",
              "  }\n",
              "\n",
              "  // All done.\n",
              "  yield {\n",
              "    response: {\n",
              "      action: 'complete',\n",
              "    }\n",
              "  };\n",
              "}\n",
              "\n",
              "scope.google = scope.google || {};\n",
              "scope.google.colab = scope.google.colab || {};\n",
              "scope.google.colab._files = {\n",
              "  _uploadFiles,\n",
              "  _uploadFilesContinue,\n",
              "};\n",
              "})(self);\n",
              "</script> "
            ]
          },
          "metadata": {}
        },
        {
          "output_type": "stream",
          "name": "stdout",
          "text": [
            "Saving Video Games Dataset.csv to Video Games Dataset.csv\n"
          ]
        }
      ]
    },
    {
      "cell_type": "code",
      "source": [
        "df = pd.read_csv(io.StringIO(data['Video Games Dataset.csv'].decode('utf-8')))"
      ],
      "metadata": {
        "id": "kGSxyyGTRe4Z"
      },
      "execution_count": 7,
      "outputs": []
    },
    {
      "cell_type": "code",
      "source": [
        "\n",
        "# Obtener las 10 primeras filas de la tabla.\n",
        "df.head(10)"
      ],
      "metadata": {
        "colab": {
          "base_uri": "https://localhost:8080/",
          "height": 363
        },
        "id": "FDlgToKVRpZ-",
        "outputId": "4a116733-5922-4608-9da6-fa93b9275b78"
      },
      "execution_count": 9,
      "outputs": [
        {
          "output_type": "execute_result",
          "data": {
            "text/plain": [
              "   Rank                       Name Platform  Year         Genre Publisher  \\\n",
              "0     1                 Wii Sports      Wii  2006        Sports  Nintendo   \n",
              "1     2          Super Mario Bros.      NES  1985      Platform  Nintendo   \n",
              "2     3             Mario Kart Wii      Wii  2008        Racing  Nintendo   \n",
              "3     4          Wii Sports Resort      Wii  2009        Sports  Nintendo   \n",
              "4     5   Pokemon Red/Pokemon Blue       GB  1996  Role-Playing  Nintendo   \n",
              "5     6                     Tetris       GB  1989        Puzzle  Nintendo   \n",
              "6     7      New Super Mario Bros.       DS  2006      Platform  Nintendo   \n",
              "7     8                   Wii Play      Wii  2006          Misc  Nintendo   \n",
              "8     9  New Super Mario Bros. Wii      Wii  2009      Platform  Nintendo   \n",
              "9    10                  Duck Hunt      NES  1984       Shooter  Nintendo   \n",
              "\n",
              "   NorthAmerica_Sales  EurpeanUnion_Sales  Japan_Sales  Other_Sales  \\\n",
              "0               41.49               29.02         3.77         8.46   \n",
              "1               29.08                3.58         6.81         0.77   \n",
              "2                 NaN               12.88         3.79          NaN   \n",
              "3               15.75               11.01          NaN         2.96   \n",
              "4               11.27                8.89        10.22         1.00   \n",
              "5               23.20                2.26         4.22         0.58   \n",
              "6               11.38                9.23         6.50         2.90   \n",
              "7               14.03                9.20         2.93         2.85   \n",
              "8               14.59                7.06          NaN         2.26   \n",
              "9               26.93                 NaN         0.28         0.47   \n",
              "\n",
              "   Global_Sales  \n",
              "0         82.74  \n",
              "1         40.24  \n",
              "2         35.82  \n",
              "3         33.00  \n",
              "4         31.37  \n",
              "5           NaN  \n",
              "6         30.01  \n",
              "7         29.02  \n",
              "8         28.62  \n",
              "9         28.31  "
            ],
            "text/html": [
              "\n",
              "  <div id=\"df-3a79f9d2-c107-4ebf-9250-0c95168aa0ec\">\n",
              "    <div class=\"colab-df-container\">\n",
              "      <div>\n",
              "<style scoped>\n",
              "    .dataframe tbody tr th:only-of-type {\n",
              "        vertical-align: middle;\n",
              "    }\n",
              "\n",
              "    .dataframe tbody tr th {\n",
              "        vertical-align: top;\n",
              "    }\n",
              "\n",
              "    .dataframe thead th {\n",
              "        text-align: right;\n",
              "    }\n",
              "</style>\n",
              "<table border=\"1\" class=\"dataframe\">\n",
              "  <thead>\n",
              "    <tr style=\"text-align: right;\">\n",
              "      <th></th>\n",
              "      <th>Rank</th>\n",
              "      <th>Name</th>\n",
              "      <th>Platform</th>\n",
              "      <th>Year</th>\n",
              "      <th>Genre</th>\n",
              "      <th>Publisher</th>\n",
              "      <th>NorthAmerica_Sales</th>\n",
              "      <th>EurpeanUnion_Sales</th>\n",
              "      <th>Japan_Sales</th>\n",
              "      <th>Other_Sales</th>\n",
              "      <th>Global_Sales</th>\n",
              "    </tr>\n",
              "  </thead>\n",
              "  <tbody>\n",
              "    <tr>\n",
              "      <th>0</th>\n",
              "      <td>1</td>\n",
              "      <td>Wii Sports</td>\n",
              "      <td>Wii</td>\n",
              "      <td>2006</td>\n",
              "      <td>Sports</td>\n",
              "      <td>Nintendo</td>\n",
              "      <td>41.49</td>\n",
              "      <td>29.02</td>\n",
              "      <td>3.77</td>\n",
              "      <td>8.46</td>\n",
              "      <td>82.74</td>\n",
              "    </tr>\n",
              "    <tr>\n",
              "      <th>1</th>\n",
              "      <td>2</td>\n",
              "      <td>Super Mario Bros.</td>\n",
              "      <td>NES</td>\n",
              "      <td>1985</td>\n",
              "      <td>Platform</td>\n",
              "      <td>Nintendo</td>\n",
              "      <td>29.08</td>\n",
              "      <td>3.58</td>\n",
              "      <td>6.81</td>\n",
              "      <td>0.77</td>\n",
              "      <td>40.24</td>\n",
              "    </tr>\n",
              "    <tr>\n",
              "      <th>2</th>\n",
              "      <td>3</td>\n",
              "      <td>Mario Kart Wii</td>\n",
              "      <td>Wii</td>\n",
              "      <td>2008</td>\n",
              "      <td>Racing</td>\n",
              "      <td>Nintendo</td>\n",
              "      <td>NaN</td>\n",
              "      <td>12.88</td>\n",
              "      <td>3.79</td>\n",
              "      <td>NaN</td>\n",
              "      <td>35.82</td>\n",
              "    </tr>\n",
              "    <tr>\n",
              "      <th>3</th>\n",
              "      <td>4</td>\n",
              "      <td>Wii Sports Resort</td>\n",
              "      <td>Wii</td>\n",
              "      <td>2009</td>\n",
              "      <td>Sports</td>\n",
              "      <td>Nintendo</td>\n",
              "      <td>15.75</td>\n",
              "      <td>11.01</td>\n",
              "      <td>NaN</td>\n",
              "      <td>2.96</td>\n",
              "      <td>33.00</td>\n",
              "    </tr>\n",
              "    <tr>\n",
              "      <th>4</th>\n",
              "      <td>5</td>\n",
              "      <td>Pokemon Red/Pokemon Blue</td>\n",
              "      <td>GB</td>\n",
              "      <td>1996</td>\n",
              "      <td>Role-Playing</td>\n",
              "      <td>Nintendo</td>\n",
              "      <td>11.27</td>\n",
              "      <td>8.89</td>\n",
              "      <td>10.22</td>\n",
              "      <td>1.00</td>\n",
              "      <td>31.37</td>\n",
              "    </tr>\n",
              "    <tr>\n",
              "      <th>5</th>\n",
              "      <td>6</td>\n",
              "      <td>Tetris</td>\n",
              "      <td>GB</td>\n",
              "      <td>1989</td>\n",
              "      <td>Puzzle</td>\n",
              "      <td>Nintendo</td>\n",
              "      <td>23.20</td>\n",
              "      <td>2.26</td>\n",
              "      <td>4.22</td>\n",
              "      <td>0.58</td>\n",
              "      <td>NaN</td>\n",
              "    </tr>\n",
              "    <tr>\n",
              "      <th>6</th>\n",
              "      <td>7</td>\n",
              "      <td>New Super Mario Bros.</td>\n",
              "      <td>DS</td>\n",
              "      <td>2006</td>\n",
              "      <td>Platform</td>\n",
              "      <td>Nintendo</td>\n",
              "      <td>11.38</td>\n",
              "      <td>9.23</td>\n",
              "      <td>6.50</td>\n",
              "      <td>2.90</td>\n",
              "      <td>30.01</td>\n",
              "    </tr>\n",
              "    <tr>\n",
              "      <th>7</th>\n",
              "      <td>8</td>\n",
              "      <td>Wii Play</td>\n",
              "      <td>Wii</td>\n",
              "      <td>2006</td>\n",
              "      <td>Misc</td>\n",
              "      <td>Nintendo</td>\n",
              "      <td>14.03</td>\n",
              "      <td>9.20</td>\n",
              "      <td>2.93</td>\n",
              "      <td>2.85</td>\n",
              "      <td>29.02</td>\n",
              "    </tr>\n",
              "    <tr>\n",
              "      <th>8</th>\n",
              "      <td>9</td>\n",
              "      <td>New Super Mario Bros. Wii</td>\n",
              "      <td>Wii</td>\n",
              "      <td>2009</td>\n",
              "      <td>Platform</td>\n",
              "      <td>Nintendo</td>\n",
              "      <td>14.59</td>\n",
              "      <td>7.06</td>\n",
              "      <td>NaN</td>\n",
              "      <td>2.26</td>\n",
              "      <td>28.62</td>\n",
              "    </tr>\n",
              "    <tr>\n",
              "      <th>9</th>\n",
              "      <td>10</td>\n",
              "      <td>Duck Hunt</td>\n",
              "      <td>NES</td>\n",
              "      <td>1984</td>\n",
              "      <td>Shooter</td>\n",
              "      <td>Nintendo</td>\n",
              "      <td>26.93</td>\n",
              "      <td>NaN</td>\n",
              "      <td>0.28</td>\n",
              "      <td>0.47</td>\n",
              "      <td>28.31</td>\n",
              "    </tr>\n",
              "  </tbody>\n",
              "</table>\n",
              "</div>\n",
              "      <button class=\"colab-df-convert\" onclick=\"convertToInteractive('df-3a79f9d2-c107-4ebf-9250-0c95168aa0ec')\"\n",
              "              title=\"Convert this dataframe to an interactive table.\"\n",
              "              style=\"display:none;\">\n",
              "        \n",
              "  <svg xmlns=\"http://www.w3.org/2000/svg\" height=\"24px\"viewBox=\"0 0 24 24\"\n",
              "       width=\"24px\">\n",
              "    <path d=\"M0 0h24v24H0V0z\" fill=\"none\"/>\n",
              "    <path d=\"M18.56 5.44l.94 2.06.94-2.06 2.06-.94-2.06-.94-.94-2.06-.94 2.06-2.06.94zm-11 1L8.5 8.5l.94-2.06 2.06-.94-2.06-.94L8.5 2.5l-.94 2.06-2.06.94zm10 10l.94 2.06.94-2.06 2.06-.94-2.06-.94-.94-2.06-.94 2.06-2.06.94z\"/><path d=\"M17.41 7.96l-1.37-1.37c-.4-.4-.92-.59-1.43-.59-.52 0-1.04.2-1.43.59L10.3 9.45l-7.72 7.72c-.78.78-.78 2.05 0 2.83L4 21.41c.39.39.9.59 1.41.59.51 0 1.02-.2 1.41-.59l7.78-7.78 2.81-2.81c.8-.78.8-2.07 0-2.86zM5.41 20L4 18.59l7.72-7.72 1.47 1.35L5.41 20z\"/>\n",
              "  </svg>\n",
              "      </button>\n",
              "      \n",
              "  <style>\n",
              "    .colab-df-container {\n",
              "      display:flex;\n",
              "      flex-wrap:wrap;\n",
              "      gap: 12px;\n",
              "    }\n",
              "\n",
              "    .colab-df-convert {\n",
              "      background-color: #E8F0FE;\n",
              "      border: none;\n",
              "      border-radius: 50%;\n",
              "      cursor: pointer;\n",
              "      display: none;\n",
              "      fill: #1967D2;\n",
              "      height: 32px;\n",
              "      padding: 0 0 0 0;\n",
              "      width: 32px;\n",
              "    }\n",
              "\n",
              "    .colab-df-convert:hover {\n",
              "      background-color: #E2EBFA;\n",
              "      box-shadow: 0px 1px 2px rgba(60, 64, 67, 0.3), 0px 1px 3px 1px rgba(60, 64, 67, 0.15);\n",
              "      fill: #174EA6;\n",
              "    }\n",
              "\n",
              "    [theme=dark] .colab-df-convert {\n",
              "      background-color: #3B4455;\n",
              "      fill: #D2E3FC;\n",
              "    }\n",
              "\n",
              "    [theme=dark] .colab-df-convert:hover {\n",
              "      background-color: #434B5C;\n",
              "      box-shadow: 0px 1px 3px 1px rgba(0, 0, 0, 0.15);\n",
              "      filter: drop-shadow(0px 1px 2px rgba(0, 0, 0, 0.3));\n",
              "      fill: #FFFFFF;\n",
              "    }\n",
              "  </style>\n",
              "\n",
              "      <script>\n",
              "        const buttonEl =\n",
              "          document.querySelector('#df-3a79f9d2-c107-4ebf-9250-0c95168aa0ec button.colab-df-convert');\n",
              "        buttonEl.style.display =\n",
              "          google.colab.kernel.accessAllowed ? 'block' : 'none';\n",
              "\n",
              "        async function convertToInteractive(key) {\n",
              "          const element = document.querySelector('#df-3a79f9d2-c107-4ebf-9250-0c95168aa0ec');\n",
              "          const dataTable =\n",
              "            await google.colab.kernel.invokeFunction('convertToInteractive',\n",
              "                                                     [key], {});\n",
              "          if (!dataTable) return;\n",
              "\n",
              "          const docLinkHtml = 'Like what you see? Visit the ' +\n",
              "            '<a target=\"_blank\" href=https://colab.research.google.com/notebooks/data_table.ipynb>data table notebook</a>'\n",
              "            + ' to learn more about interactive tables.';\n",
              "          element.innerHTML = '';\n",
              "          dataTable['output_type'] = 'display_data';\n",
              "          await google.colab.output.renderOutput(dataTable, element);\n",
              "          const docLink = document.createElement('div');\n",
              "          docLink.innerHTML = docLinkHtml;\n",
              "          element.appendChild(docLink);\n",
              "        }\n",
              "      </script>\n",
              "    </div>\n",
              "  </div>\n",
              "  "
            ]
          },
          "metadata": {},
          "execution_count": 9
        }
      ]
    },
    {
      "cell_type": "markdown",
      "source": [
        "Información general sobre los datos de la tabla df."
      ],
      "metadata": {
        "id": "IFJqDxluR7c-"
      }
    },
    {
      "cell_type": "code",
      "source": [
        "df.info()"
      ],
      "metadata": {
        "colab": {
          "base_uri": "https://localhost:8080/"
        },
        "id": "jXmgySpjSEEf",
        "outputId": "084ce195-79d3-47e3-c9de-5742d42cb8a4"
      },
      "execution_count": 10,
      "outputs": [
        {
          "output_type": "stream",
          "name": "stdout",
          "text": [
            "<class 'pandas.core.frame.DataFrame'>\n",
            "RangeIndex: 199 entries, 0 to 198\n",
            "Data columns (total 11 columns):\n",
            " #   Column              Non-Null Count  Dtype  \n",
            "---  ------              --------------  -----  \n",
            " 0   Rank                199 non-null    int64  \n",
            " 1   Name                199 non-null    object \n",
            " 2   Platform            199 non-null    object \n",
            " 3   Year                199 non-null    int64  \n",
            " 4   Genre               199 non-null    object \n",
            " 5   Publisher           198 non-null    object \n",
            " 6   NorthAmerica_Sales  185 non-null    float64\n",
            " 7   EurpeanUnion_Sales  190 non-null    float64\n",
            " 8   Japan_Sales         189 non-null    float64\n",
            " 9   Other_Sales         192 non-null    float64\n",
            " 10  Global_Sales        187 non-null    float64\n",
            "dtypes: float64(5), int64(2), object(4)\n",
            "memory usage: 17.2+ KB\n"
          ]
        }
      ]
    },
    {
      "cell_type": "markdown",
      "source": [
        "Veamos más de cerca la información obtenida.\n",
        "\n",
        "Hay un total de 11 columnas en la tabla. Hay dos tipos de datos: objeto no nulo (5 columnas) y float64 no nulo (6 columnas)."
      ],
      "metadata": {
        "id": "xqpkC4wcSHyw"
      }
    },
    {
      "cell_type": "markdown",
      "source": [
        "Resultados\n",
        "\n",
        "Cada fila de la tabla contiene datos históricos sobre ventas de juegos, valoraciones de usuarios y expertos, géneros y plataformas (por ejemplo, Xbox o PlayStation), año de lanzamiento y clasificación por edades asignada.\n",
        "\n",
        "Dos problemas que hay que resolver en la próxima fase: las omisiones y los nombres poco acertados de las columnas.\n",
        "\n",
        "Las columnas Género, Plataforma, Año_de_estreno y desglose de ventas por regiones son especialmente valiosas para comprobar hipótesis de trabajo. Podemos utilizarlos para rastrear cómo han cambiado las preferencias de los usuarios a lo largo del tiempo, para construir un perfil de usuario para cada región. Las columnas Critic_Score, User_Score, Rating nos ayudarán a probar hipótesis sobre el efecto de las puntuaciones de los juegos en las ventas en función del género y la plataforma del juego."
      ],
      "metadata": {
        "id": "2of5iLptUrmJ"
      }
    },
    {
      "cell_type": "markdown",
      "source": [
        "Paso 2: Procesamiento previo de los datos\n",
        "\n",
        "Cambie los nombres de las columnas, convierta los datos al tipo correcto, procese las lagunas (rellenándolas cuando sea posible), compruebe si hay datos duplicados y calcule las ventas totales en todas las regiones y anótelas en una columna aparte.\n",
        "\n",
        "Obtenemos una lista de nombres de columnas."
      ],
      "metadata": {
        "id": "wByH48QxUuQI"
      }
    },
    {
      "cell_type": "code",
      "source": [
        "df.columns"
      ],
      "metadata": {
        "colab": {
          "base_uri": "https://localhost:8080/"
        },
        "id": "M5AHTCrKVGGO",
        "outputId": "276bd04d-896d-4243-a635-99b4e9307d5f"
      },
      "execution_count": 11,
      "outputs": [
        {
          "output_type": "execute_result",
          "data": {
            "text/plain": [
              "Index(['Rank', 'Name', 'Platform', 'Year', 'Genre', 'Publisher',\n",
              "       'NorthAmerica_Sales', 'EurpeanUnion_Sales', 'Japan_Sales',\n",
              "       'Other_Sales', 'Global_Sales'],\n",
              "      dtype='object')"
            ]
          },
          "metadata": {},
          "execution_count": 11
        }
      ]
    },
    {
      "cell_type": "markdown",
      "source": [
        "Los nombres de las columnas están en mayúsculas, lo que no resulta muy cómodo para acceder a los datos. Vamos a cambiar el nombre de las columnas para facilitar la consulta. \n",
        "Comprobemos el resultado."
      ],
      "metadata": {
        "id": "nD_AQIfOVMhu"
      }
    },
    {
      "cell_type": "code",
      "source": [
        "df = df.rename(columns=lambda x: x.lower())"
      ],
      "metadata": {
        "id": "A6EDpV83VRSm"
      },
      "execution_count": 12,
      "outputs": []
    },
    {
      "cell_type": "code",
      "source": [
        "df.columns"
      ],
      "metadata": {
        "colab": {
          "base_uri": "https://localhost:8080/"
        },
        "id": "iECmSBAlVUPM",
        "outputId": "4cbd4de9-aa92-467a-a5f3-06f9fcc6d6d7"
      },
      "execution_count": 13,
      "outputs": [
        {
          "output_type": "execute_result",
          "data": {
            "text/plain": [
              "Index(['rank', 'name', 'platform', 'year', 'genre', 'publisher',\n",
              "       'northamerica_sales', 'eurpeanunion_sales', 'japan_sales',\n",
              "       'other_sales', 'global_sales'],\n",
              "      dtype='object')"
            ]
          },
          "metadata": {},
          "execution_count": 13
        }
      ]
    },
    {
      "cell_type": "markdown",
      "source": [
        "Es necesario determinar si hay duplicados. \n",
        "Si los encuentra, elimínelos y compruebe que se han eliminado todos."
      ],
      "metadata": {
        "id": "Rz4IiV3YVX6E"
      }
    },
    {
      "cell_type": "code",
      "source": [
        "# obtener el número total de duplicados en la tabla df\n",
        "df.duplicated() .sum()"
      ],
      "metadata": {
        "colab": {
          "base_uri": "https://localhost:8080/"
        },
        "id": "KILaZl3gVju5",
        "outputId": "c32ecc09-aedb-40c4-da05-623391fc8f96"
      },
      "execution_count": 15,
      "outputs": [
        {
          "output_type": "execute_result",
          "data": {
            "text/plain": [
              "0"
            ]
          },
          "metadata": {},
          "execution_count": 15
        }
      ]
    },
    {
      "cell_type": "markdown",
      "source": [
        "No se han encontrado duplicados. Tratemos los valores que faltan."
      ],
      "metadata": {
        "id": "m1VvB0V7V0vU"
      }
    },
    {
      "cell_type": "markdown",
      "source": [
        "Comprobar si faltan valores en los datos llamando a un conjunto de métodos para sumar los valores que faltan."
      ],
      "metadata": {
        "id": "itB-7od0V2jI"
      }
    },
    {
      "cell_type": "code",
      "source": [
        "df.isnull() .sum()"
      ],
      "metadata": {
        "colab": {
          "base_uri": "https://localhost:8080/"
        },
        "id": "gDTYq-KPV5tC",
        "outputId": "b73ed7bb-b698-4a75-b12d-b7963769fece"
      },
      "execution_count": 16,
      "outputs": [
        {
          "output_type": "execute_result",
          "data": {
            "text/plain": [
              "rank                   0\n",
              "name                   0\n",
              "platform               0\n",
              "year                   0\n",
              "genre                  0\n",
              "publisher              1\n",
              "northamerica_sales    14\n",
              "eurpeanunion_sales     9\n",
              "japan_sales           10\n",
              "other_sales            7\n",
              "global_sales          12\n",
              "dtype: int64"
            ]
          },
          "metadata": {},
          "execution_count": 16
        }
      ]
    },
    {
      "cell_type": "markdown",
      "source": [
        "Tratamiento de las omisiones en la columna \"nombre\n",
        "\n",
        "En primer lugar, veamos las filas con lagunas de datos en la columna del nombre."
      ],
      "metadata": {
        "id": "HML23HhSWGv0"
      }
    }
  ]
}